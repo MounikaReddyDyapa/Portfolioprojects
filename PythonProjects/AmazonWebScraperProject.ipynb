{
 "cells": [
  {
   "cell_type": "code",
   "execution_count": 24,
   "id": "2f43ccba",
   "metadata": {},
   "outputs": [],
   "source": [
    "#importing libraries\n",
    "\n",
    "from bs4 import BeautifulSoup\n",
    "import requests\n",
    "import time\n",
    "import datetime\n",
    "import csv\n",
    "import smtplib\n"
   ]
  },
  {
   "cell_type": "code",
   "execution_count": 25,
   "id": "ff798b19",
   "metadata": {},
   "outputs": [
    {
     "name": "stdout",
     "output_type": "stream",
     "text": [
      "Barbie Logo T-Shirt\n",
      "22.99\n"
     ]
    }
   ],
   "source": [
    "#connect to website\n",
    "\n",
    "URL = 'https://www.amazon.com/dp/B07MXG2PPW/ref=redir_mobile_desktop?_encoding=UTF8&aaxitk=c3709edc4dbf4f5ef78dffe29b6e2bbe&content-id=amzn1.sym.53aae2ac-0129-49a5-9c09-6530a9e11786%3Aamzn1.sym.53aae2ac-0129-49a5-9c09-6530a9e11786&hsa_cr_id=0&pd_rd_plhdr=t&pd_rd_r=02746ed3-427a-4872-98ff-26efc1e44f79&pd_rd_w=AaXzA&pd_rd_wg=s3BRm&qid=1666037932&ref_=sbx_be_s_sparkle_tsld_asin_0_img&sr=1-1-a094db1c-5033-42c6-82a2-587d01f975e8'\n",
    "\n",
    "headers = {\"Accept\": \"text/html,application/xhtml+xml,application/xml;q=0.9,image/avif,image/webp,image/apng,*/*;q=0.8,application/signed-exchange;v=b3;q=0.9\", \"Accept-Encoding\": \"gzip, deflate, br\", \"Accept-Language\": \"en-US,en;q=0.9\", \"User-Agent\": \"Mozilla/5.0 (Windows NT 10.0; Win64; x64) AppleWebKit/537.36 (KHTML, like Gecko) Chrome/106.0.0.0 Safari/537.36\", \"X-Amzn-Trace-Id\": \"Root=1-63b48ddf-4f5768dc7c07b9a52ba9d87b\"}\n",
    "\n",
    "page = requests.get(URL, headers=headers)\n",
    "\n",
    "soup1= BeautifulSoup(page.content, \"html.parser\")\n",
    "\n",
    "soup2 = BeautifulSoup(soup1.prettify(), \"html.parser\")\n",
    "\n",
    "title = soup2.find(id='productTitle').get_text().strip()\n",
    "\n",
    "price = soup2.find(id='corePriceDisplay_desktop_feature_div').get_text().strip()[1:6]\n",
    "#try:\n",
    "#    title = soup2.find(id='a-price-whole').get_text()\n",
    "#except AttributeError:\n",
    "#    print (\"a-price-whole: -\")\n",
    "\n",
    "\n",
    "print(title)\n",
    "print(price)"
   ]
  },
  {
   "cell_type": "code",
   "execution_count": 26,
   "id": "0e1d84ce",
   "metadata": {},
   "outputs": [
    {
     "name": "stdout",
     "output_type": "stream",
     "text": [
      "2023-01-03\n"
     ]
    }
   ],
   "source": [
    "import datetime\n",
    "\n",
    "today = datetime.date.today()\n",
    "\n",
    "print(today)"
   ]
  },
  {
   "cell_type": "code",
   "execution_count": 17,
   "id": "672b4794",
   "metadata": {},
   "outputs": [],
   "source": [
    "#import csv\n",
    "\n",
    "#header = ['Title', 'Price', 'Date']\n",
    "#data = [title, price, today]\n",
    "\n",
    "#with open('AmazonWebScraperDataset.csv', 'w', newline='', encoding='UTF8') as f:\n",
    "#    writer = csv.writer(f)\n",
    "#    writer.writerow(header)\n",
    "#    writer.writerow(data)"
   ]
  },
  {
   "cell_type": "code",
   "execution_count": null,
   "id": "796545a9",
   "metadata": {},
   "outputs": [],
   "source": [
    "#import pandas as pd\n",
    "\n",
    "#df = pd.read_csv(r'C:\\Users\\Nithin\\AmazonWebScraperDataset.csv')\n",
    "\n",
    "#print(df)"
   ]
  },
  {
   "cell_type": "code",
   "execution_count": 27,
   "id": "77593580",
   "metadata": {},
   "outputs": [],
   "source": [
    "#Now we are appending data to the csv\n",
    "header = ['Title', 'Price', 'Date']\n",
    "data = [title, price, today]\n",
    "\n",
    "with open('AmazonWebScraperDataset.csv', 'a+', newline='', encoding='UTF8') as f:\n",
    "    writer = csv.writer(f)\n",
    "    writer.writerow(data)"
   ]
  },
  {
   "cell_type": "code",
   "execution_count": 23,
   "id": "41e202b3",
   "metadata": {},
   "outputs": [],
   "source": [
    "def check_price():\n",
    "    URL = 'https://www.amazon.com/dp/B07MXG2PPW/ref=redir_mobile_desktop?_encoding=UTF8&aaxitk=c3709edc4dbf4f5ef78dffe29b6e2bbe&content-id=amzn1.sym.53aae2ac-0129-49a5-9c09-6530a9e11786%3Aamzn1.sym.53aae2ac-0129-49a5-9c09-6530a9e11786&hsa_cr_id=0&pd_rd_plhdr=t&pd_rd_r=02746ed3-427a-4872-98ff-26efc1e44f79&pd_rd_w=AaXzA&pd_rd_wg=s3BRm&qid=1666037932&ref_=sbx_be_s_sparkle_tsld_asin_0_img&sr=1-1-a094db1c-5033-42c6-82a2-587d01f975e8'\n",
    "\n",
    "    headers = {\"Accept\": \"text/html,application/xhtml+xml,application/xml;q=0.9,image/avif,image/webp,image/apng,*/*;q=0.8,application/signed-exchange;v=b3;q=0.9\", \"Accept-Encoding\": \"gzip, deflate, br\", \"Accept-Language\": \"en-US,en;q=0.9\", \"User-Agent\": \"Mozilla/5.0 (Windows NT 10.0; Win64; x64) AppleWebKit/537.36 (KHTML, like Gecko) Chrome/106.0.0.0 Safari/537.36\", \"X-Amzn-Trace-Id\": \"Root=1-63b48ddf-4f5768dc7c07b9a52ba9d87b\"}\n",
    "\n",
    "    page = requests.get(URL, headers=headers)\n",
    "\n",
    "    soup1= BeautifulSoup(page.content, \"html.parser\")\n",
    "\n",
    "    soup2 = BeautifulSoup(soup1.prettify(), \"html.parser\")\n",
    "\n",
    "    title = soup2.find(id='productTitle').get_text().strip()\n",
    "\n",
    "    price = soup2.find(id='corePriceDisplay_desktop_feature_div').get_text().strip()[1:6]\n",
    "    \n",
    "    import datetime\n",
    "    today = datetime.date.today()\n",
    "    \n",
    "    import csv\n",
    "    \n",
    "    header = ['Title', 'Price', 'Date']\n",
    "    data = [title, price, today]\n",
    "    \n",
    "    with open('AmazonWebScraperDataset.csv', 'a+', newline='', encoding='UTF8') as f:\n",
    "        writer = csv.writer(f)\n",
    "        writer.writerow(data)"
   ]
  },
  {
   "cell_type": "code",
   "execution_count": 22,
   "id": "bc22f538",
   "metadata": {},
   "outputs": [
    {
     "ename": "KeyboardInterrupt",
     "evalue": "",
     "output_type": "error",
     "traceback": [
      "\u001b[1;31m---------------------------------------------------------------------------\u001b[0m",
      "\u001b[1;31mKeyboardInterrupt\u001b[0m                         Traceback (most recent call last)",
      "\u001b[1;32mc:\\Users\\Nithin\\Documents\\DataAnalystProjects\\Portfolioprojects\\PythonProjects\\AmazonWebScraperProject.ipynb Cell 8\u001b[0m in \u001b[0;36m<cell line: 2>\u001b[1;34m()\u001b[0m\n\u001b[0;32m      <a href='vscode-notebook-cell:/c%3A/Users/Nithin/Documents/DataAnalystProjects/Portfolioprojects/PythonProjects/AmazonWebScraperProject.ipynb#X10sZmlsZQ%3D%3D?line=0'>1</a>\u001b[0m \u001b[39mwhile\u001b[39;00m(\u001b[39mTrue\u001b[39;00m):\n\u001b[0;32m      <a href='vscode-notebook-cell:/c%3A/Users/Nithin/Documents/DataAnalystProjects/Portfolioprojects/PythonProjects/AmazonWebScraperProject.ipynb#X10sZmlsZQ%3D%3D?line=1'>2</a>\u001b[0m     check_price()\n\u001b[1;32m----> <a href='vscode-notebook-cell:/c%3A/Users/Nithin/Documents/DataAnalystProjects/Portfolioprojects/PythonProjects/AmazonWebScraperProject.ipynb#X10sZmlsZQ%3D%3D?line=2'>3</a>\u001b[0m     time\u001b[39m.\u001b[39;49msleep(\u001b[39m1\u001b[39;49m)\n",
      "\u001b[1;31mKeyboardInterrupt\u001b[0m: "
     ]
    }
   ],
   "source": [
    "while(True):\n",
    "    check_price()\n",
    "    time.sleep(1)"
   ]
  },
  {
   "cell_type": "code",
   "execution_count": 19,
   "id": "f73b9ce1",
   "metadata": {},
   "outputs": [
    {
     "name": "stdout",
     "output_type": "stream",
     "text": [
      "   Barbie Logo T-Shirt  22.99  2023-01-03\n",
      "0  Barbie Logo T-Shirt  22.99  2023-01-03\n",
      "1  Barbie Logo T-Shirt  22.99  2023-01-03\n",
      "2  Barbie Logo T-Shirt  22.99  2023-01-03\n",
      "3  Barbie Logo T-Shirt  22.99  2023-01-03\n",
      "4  Barbie Logo T-Shirt  22.99  2023-01-03\n",
      "5  Barbie Logo T-Shirt  22.99  2023-01-03\n",
      "6  Barbie Logo T-Shirt  22.99  2023-01-03\n"
     ]
    }
   ],
   "source": [
    "import pandas as pd\n",
    "\n",
    "df = pd.read_csv(r'C:\\Users\\Nithin\\Documents\\DataAnalystProjects\\Portfolioprojects\\PythonProjects\\AmazonWebScraperDataset.csv')\n",
    "\n",
    "print(df)"
   ]
  }
 ],
 "metadata": {
  "kernelspec": {
   "display_name": "Python 3.9.12 ('base')",
   "language": "python",
   "name": "python3"
  },
  "language_info": {
   "codemirror_mode": {
    "name": "ipython",
    "version": 3
   },
   "file_extension": ".py",
   "mimetype": "text/x-python",
   "name": "python",
   "nbconvert_exporter": "python",
   "pygments_lexer": "ipython3",
   "version": "3.9.12"
  },
  "vscode": {
   "interpreter": {
    "hash": "798b696c3d065b6e8776b09df4ea475d84a39a958505fca2f84f7b5e93a72d16"
   }
  }
 },
 "nbformat": 4,
 "nbformat_minor": 5
}
