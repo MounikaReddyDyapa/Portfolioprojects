{
 "cells": [
  {
   "cell_type": "code",
   "execution_count": 14,
   "id": "2f43ccba",
   "metadata": {},
   "outputs": [],
   "source": [
    "#importing libraries\n",
    "\n",
    "from bs4 import BeautifulSoup\n",
    "import requests\n",
    "import time\n",
    "import datetime\n",
    "\n",
    "import smtplib\n"
   ]
  },
  {
   "cell_type": "code",
   "execution_count": 15,
   "id": "ff798b19",
   "metadata": {},
   "outputs": [
    {
     "name": "stdout",
     "output_type": "stream",
     "text": [
      "Barbie Logo T-Shirt\n",
      "22.99\n"
     ]
    }
   ],
   "source": [
    "#connect to website\n",
    "\n",
    "URL = 'https://www.amazon.com/dp/B07MXG2PPW/ref=redir_mobile_desktop?_encoding=UTF8&aaxitk=c3709edc4dbf4f5ef78dffe29b6e2bbe&content-id=amzn1.sym.53aae2ac-0129-49a5-9c09-6530a9e11786%3Aamzn1.sym.53aae2ac-0129-49a5-9c09-6530a9e11786&hsa_cr_id=0&pd_rd_plhdr=t&pd_rd_r=02746ed3-427a-4872-98ff-26efc1e44f79&pd_rd_w=AaXzA&pd_rd_wg=s3BRm&qid=1666037932&ref_=sbx_be_s_sparkle_tsld_asin_0_img&sr=1-1-a094db1c-5033-42c6-82a2-587d01f975e8'\n",
    "\n",
    "headers = {\"Accept\": \"text/html,application/xhtml+xml,application/xml;q=0.9,image/avif,image/webp,image/apng,*/*;q=0.8,application/signed-exchange;v=b3;q=0.9\", \"Accept-Encoding\": \"gzip, deflate, br\", \"Accept-Language\": \"en-US,en;q=0.9\", \"User-Agent\": \"Mozilla/5.0 (Windows NT 10.0; Win64; x64) AppleWebKit/537.36 (KHTML, like Gecko) Chrome/106.0.0.0 Safari/537.36\", \"X-Amzn-Trace-Id\": \"Root=1-63b48ddf-4f5768dc7c07b9a52ba9d87b\"}\n",
    "\n",
    "page = requests.get(URL, headers=headers)\n",
    "\n",
    "soup1= BeautifulSoup(page.content, \"html.parser\")\n",
    "\n",
    "soup2 = BeautifulSoup(soup1.prettify(), \"html.parser\")\n",
    "\n",
    "title = soup2.find(id='productTitle').get_text().strip()\n",
    "\n",
    "price = soup2.find(id='corePriceDisplay_desktop_feature_div').get_text().strip()[1:6]\n",
    "#try:\n",
    "#    title = soup2.find(id='a-price-whole').get_text()\n",
    "#except AttributeError:\n",
    "#    print (\"a-price-whole: -\")\n",
    "\n",
    "\n",
    "print(title)\n",
    "print(price)"
   ]
  },
  {
   "cell_type": "code",
   "execution_count": 16,
   "id": "0e1d84ce",
   "metadata": {},
   "outputs": [
    {
     "name": "stdout",
     "output_type": "stream",
     "text": [
      "2023-01-03\n"
     ]
    }
   ],
   "source": [
    "import datetime\n",
    "\n",
    "today = datetime.date.today()\n",
    "\n",
    "print(today)"
   ]
  },
  {
   "cell_type": "code",
   "execution_count": 17,
   "id": "672b4794",
   "metadata": {},
   "outputs": [],
   "source": [
    "import csv\n",
    "\n",
    "header = ['Title', 'Price', 'Date']\n",
    "data = [title, price, today]\n",
    "\n",
    "with open('AmazonWebScraperDataset.csv', 'w', newline='', encoding='UTF8') as f:\n",
    "    writer = csv.writer(f)\n",
    "    writer.writerow(header)\n",
    "    writer.writerow(data)"
   ]
  },
  {
   "cell_type": "code",
   "execution_count": 33,
   "id": "796545a9",
   "metadata": {},
   "outputs": [
    {
     "name": "stdout",
     "output_type": "stream",
     "text": [
      "                  Title  Price        Date\n",
      "0   Barbie Logo T-Shirt  22.99  2023-01-03\n",
      "1   Barbie Logo T-Shirt  22.99  2023-01-03\n",
      "2   Barbie Logo T-Shirt  22.99  2023-01-03\n",
      "3   Barbie Logo T-Shirt  22.99  2023-01-03\n",
      "4   Barbie Logo T-Shirt  22.99  2023-01-03\n",
      "5   Barbie Logo T-Shirt  22.99  2023-01-03\n",
      "6   Barbie Logo T-Shirt  22.99  2023-01-03\n",
      "7   Barbie Logo T-Shirt  22.99  2023-01-03\n",
      "8   Barbie Logo T-Shirt  22.99  2023-01-03\n",
      "9   Barbie Logo T-Shirt  22.99  2023-01-03\n",
      "10  Barbie Logo T-Shirt  22.99  2023-01-03\n",
      "11  Barbie Logo T-Shirt  22.99  2023-01-03\n",
      "12  Barbie Logo T-Shirt  22.99  2023-01-03\n",
      "13  Barbie Logo T-Shirt  22.99  2023-01-03\n",
      "14  Barbie Logo T-Shirt  22.99  2023-01-03\n",
      "15  Barbie Logo T-Shirt  22.99  2023-01-03\n",
      "16  Barbie Logo T-Shirt  22.99  2023-01-03\n",
      "17  Barbie Logo T-Shirt  22.99  2023-01-03\n",
      "18  Barbie Logo T-Shirt  22.99  2023-01-03\n",
      "19  Barbie Logo T-Shirt  22.99  2023-01-03\n"
     ]
    }
   ],
   "source": [
    "import pandas as pd\n",
    "\n",
    "df = pd.read_csv(r'C:\\Users\\Nithin\\AmazonWebScraperDataset.csv')\n",
    "\n",
    "print(df)"
   ]
  },
  {
   "cell_type": "code",
   "execution_count": 32,
   "id": "77593580",
   "metadata": {},
   "outputs": [],
   "source": [
    "#Now we are appending data to the csv\n",
    "\n",
    "with open('AmazonWebScraperDataset.csv', 'a+', newline='', encoding='UTF8') as f:\n",
    "    writer = csv.writer(f)\n",
    "    writer.writerow(data)"
   ]
  },
  {
   "cell_type": "code",
   "execution_count": 38,
   "id": "41e202b3",
   "metadata": {},
   "outputs": [],
   "source": [
    "def check_price():\n",
    "    URL = 'https://www.amazon.com/dp/B07MXG2PPW/ref=redir_mobile_desktop?_encoding=UTF8&aaxitk=c3709edc4dbf4f5ef78dffe29b6e2bbe&content-id=amzn1.sym.53aae2ac-0129-49a5-9c09-6530a9e11786%3Aamzn1.sym.53aae2ac-0129-49a5-9c09-6530a9e11786&hsa_cr_id=0&pd_rd_plhdr=t&pd_rd_r=02746ed3-427a-4872-98ff-26efc1e44f79&pd_rd_w=AaXzA&pd_rd_wg=s3BRm&qid=1666037932&ref_=sbx_be_s_sparkle_tsld_asin_0_img&sr=1-1-a094db1c-5033-42c6-82a2-587d01f975e8'\n",
    "\n",
    "    headers = {\"Accept\": \"text/html,application/xhtml+xml,application/xml;q=0.9,image/avif,image/webp,image/apng,*/*;q=0.8,application/signed-exchange;v=b3;q=0.9\", \"Accept-Encoding\": \"gzip, deflate, br\", \"Accept-Language\": \"en-US,en;q=0.9\", \"User-Agent\": \"Mozilla/5.0 (Windows NT 10.0; Win64; x64) AppleWebKit/537.36 (KHTML, like Gecko) Chrome/106.0.0.0 Safari/537.36\", \"X-Amzn-Trace-Id\": \"Root=1-63b48ddf-4f5768dc7c07b9a52ba9d87b\"}\n",
    "\n",
    "    page = requests.get(URL, headers=headers)\n",
    "\n",
    "    soup1= BeautifulSoup(page.content, \"html.parser\")\n",
    "\n",
    "    soup2 = BeautifulSoup(soup1.prettify(), \"html.parser\")\n",
    "\n",
    "    title = soup2.find(id='productTitle').get_text().strip()\n",
    "\n",
    "    price = soup2.find(id='corePriceDisplay_desktop_feature_div').get_text().strip()[1:6]\n",
    "    \n",
    "    import datetime\n",
    "    today = datetime.date.today()\n",
    "    \n",
    "    import csv\n",
    "    \n",
    "    header = ['Title', 'Price', 'Date']\n",
    "    data = [title, price, today]\n",
    "    \n",
    "    with open('AmazonWebScraperDataset.csv', 'a+', newline='', encoding='UTF8') as f:\n",
    "        writer = csv.writer(f)\n",
    "        writer.writerow(data)"
   ]
  },
  {
   "cell_type": "code",
   "execution_count": 34,
   "id": "bc22f538",
   "metadata": {},
   "outputs": [
    {
     "ename": "KeyboardInterrupt",
     "evalue": "",
     "output_type": "error",
     "traceback": [
      "\u001b[1;31m---------------------------------------------------------------------------\u001b[0m",
      "\u001b[1;31mKeyboardInterrupt\u001b[0m                         Traceback (most recent call last)",
      "Input \u001b[1;32mIn [34]\u001b[0m, in \u001b[0;36m<cell line: 2>\u001b[1;34m()\u001b[0m\n\u001b[0;32m      1\u001b[0m \u001b[38;5;28;01mwhile\u001b[39;00m(\u001b[38;5;28;01mTrue\u001b[39;00m):\n\u001b[0;32m      2\u001b[0m     check_price()\n\u001b[1;32m----> 3\u001b[0m     \u001b[43mtime\u001b[49m\u001b[38;5;241;43m.\u001b[39;49m\u001b[43msleep\u001b[49m\u001b[43m(\u001b[49m\u001b[38;5;241;43m5\u001b[39;49m\u001b[43m)\u001b[49m\n",
      "\u001b[1;31mKeyboardInterrupt\u001b[0m: "
     ]
    }
   ],
   "source": [
    "while(True):\n",
    "    check_price()\n",
    "    time.sleep(5)"
   ]
  },
  {
   "cell_type": "code",
   "execution_count": 39,
   "id": "f73b9ce1",
   "metadata": {},
   "outputs": [
    {
     "name": "stdout",
     "output_type": "stream",
     "text": [
      "                  Title  Price        Date\n",
      "0   Barbie Logo T-Shirt  22.99  2023-01-03\n",
      "1   Barbie Logo T-Shirt  22.99  2023-01-03\n",
      "2   Barbie Logo T-Shirt  22.99  2023-01-03\n",
      "3   Barbie Logo T-Shirt  22.99  2023-01-03\n",
      "4   Barbie Logo T-Shirt  22.99  2023-01-03\n",
      "5   Barbie Logo T-Shirt  22.99  2023-01-03\n",
      "6   Barbie Logo T-Shirt  22.99  2023-01-03\n",
      "7   Barbie Logo T-Shirt  22.99  2023-01-03\n",
      "8   Barbie Logo T-Shirt  22.99  2023-01-03\n",
      "9   Barbie Logo T-Shirt  22.99  2023-01-03\n",
      "10  Barbie Logo T-Shirt  22.99  2023-01-03\n",
      "11  Barbie Logo T-Shirt  22.99  2023-01-03\n",
      "12  Barbie Logo T-Shirt  22.99  2023-01-03\n",
      "13  Barbie Logo T-Shirt  22.99  2023-01-03\n",
      "14  Barbie Logo T-Shirt  22.99  2023-01-03\n",
      "15  Barbie Logo T-Shirt  22.99  2023-01-03\n",
      "16  Barbie Logo T-Shirt  22.99  2023-01-03\n",
      "17  Barbie Logo T-Shirt  22.99  2023-01-03\n",
      "18  Barbie Logo T-Shirt  22.99  2023-01-03\n",
      "19  Barbie Logo T-Shirt  22.99  2023-01-03\n",
      "20  Barbie Logo T-Shirt  22.99  2023-01-03\n",
      "21  Barbie Logo T-Shirt  22.99  2023-01-03\n",
      "22  Barbie Logo T-Shirt  22.99  2023-01-03\n"
     ]
    }
   ],
   "source": [
    "import pandas as pd\n",
    "\n",
    "df = pd.read_csv(r'C:\\Users\\Nithin\\AmazonWebScraperDataset.csv')\n",
    "\n",
    "print(df)"
   ]
  }
 ],
 "metadata": {
  "kernelspec": {
   "display_name": "Python 3 (ipykernel)",
   "language": "python",
   "name": "python3"
  },
  "language_info": {
   "codemirror_mode": {
    "name": "ipython",
    "version": 3
   },
   "file_extension": ".py",
   "mimetype": "text/x-python",
   "name": "python",
   "nbconvert_exporter": "python",
   "pygments_lexer": "ipython3",
   "version": "3.9.12"
  }
 },
 "nbformat": 4,
 "nbformat_minor": 5
}
